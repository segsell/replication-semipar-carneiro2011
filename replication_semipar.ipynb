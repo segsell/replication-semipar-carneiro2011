{
 "cells": [
  {
   "cell_type": "markdown",
   "metadata": {},
   "source": [
    "# Replication of Carneiro, Heckman, & Vytlacil's (2011) *Local Instrumental Variables* approach"
   ]
  },
  {
   "cell_type": "markdown",
   "metadata": {},
   "source": [
    "In this notebook, we reproduce the semiparametric results from\n",
    "\n",
    "Carneiro, P., Heckman, J. J., & Vytlacil, E. J. (2011). [Estimating marginal returns to education.](https://pubs.aeaweb.org/doi/pdfplus/10.1257/aer.101.6.2754) *American Economic Review, 101*(6), 2754-81. \n",
    "\n",
    "The goal of this endeavor is to add the semiparametric estimation method to the open-source package *grmpy* for the simulation and estimation of the generalized Roy model in Python. Currently, *grmpy* is limited to the estimation of a parametric normal version of the generalized Roy model. <br> For more, see the [online documentation](https://grmpy.readthedocs.io/en/develop/). \n",
    "\n",
    "This notebook makes use of the replication material provided by [Carneiro et al. (2011)](https://pubs.aeaweb.org/doi/pdfplus/10.1257/aer.101.6.2754)."
   ]
  },
  {
   "cell_type": "markdown",
   "metadata": {},
   "source": [
    "### Preliminaries"
   ]
  },
  {
   "cell_type": "markdown",
   "metadata": {},
   "source": [
    "Import some libraries we need in the replication process. "
   ]
  },
  {
   "cell_type": "code",
   "execution_count": 1,
   "metadata": {},
   "outputs": [],
   "source": [
    "import matplotlib.pyplot as plt\n",
    "from scipy.stats import norm\n",
    "import statsmodels.api as sm\n",
    "import pandas as pd\n",
    "import numpy as np\n",
    "\n",
    "import matplotlib.patches as mpatches\n",
    "import matplotlib.ticker as ticker\n",
    "from matplotlib import pyplot"
   ]
  },
  {
   "cell_type": "markdown",
   "metadata": {},
   "source": [
    "We also need to import the *rpy2 interface* along with R's KernSmooth package. We will utilize the function *locpoly* to fit a local quadratic regression later on."
   ]
  },
  {
   "cell_type": "code",
   "execution_count": 2,
   "metadata": {},
   "outputs": [],
   "source": [
    "import rpy2.robjects.packages as rpackages\n",
    "from rpy2.robjects.packages import importr\n",
    "import rpy2.rinterface\n",
    "\n",
    "KernSmooth = rpackages.importr('KernSmooth')"
   ]
  },
  {
   "cell_type": "markdown",
   "metadata": {},
   "source": [
    "# The Generalized Roy Model"
   ]
  },
  {
   "cell_type": "markdown",
   "metadata": {},
   "source": [
    "\\begin{align*}\n",
    " &\\textbf{Potential Outcomes} & & \\textbf{Choice}  &\\\\\n",
    " & Y_1 = \\beta_1 X + U_{1} &  &D_i = \\mathbf{1}\\{\\Phi(\\gamma Z) > u_D\\} &\\\\\n",
    " & Y_0 = \\beta_0 X + U_{0} &  & \\text{with $u_D = \\Phi(V)$}  &\\\\\n",
    "&&&&\\\\\n",
    "& \\textbf{Observed Outcome} &&&\\\\\n",
    "& Y = D Y_1 + (1-D) Y_0 &&&\n",
    "\\end{align*}\n",
    "\n",
    "$Y_1$ and $Y_0$ are the potential outcomes in the treated and untreated state, such as log wages with and without a college degree. They are modeled as functions of observables $X$ (regressors) and unobservables $U_1$ and $U_1$.\n",
    "In the choice equation, $Z$ and $V$ represent observables and unobservables respectively, where\n",
    "$V$ can be interpreted as the unobserved resistance to treatment.\n",
    "\n",
    "Note that in the semiparametric setup we do not make any assumptions about the distributional characteristics (such as joint normality) of the unobservable terms $\\{U_1, U_0, V\\}$. \n",
    "\n",
    "However, Carneiro et al. (2011) invoke the assumption that $(X,Z)$ is independent of $\\{U_1, U_0, V\\}$. Under this assumption, the *MTE* \n",
    "\n",
    "1) is additively separable in $X$ and $U_D$, which means that the shape of the *MTE* is independent of $X$, \n",
    "\n",
    "2) and is identified over the common support of $P(Z)$, unconditional on $X$. "
   ]
  },
  {
   "cell_type": "markdown",
   "metadata": {},
   "source": [
    "Define $U_S = F_V(V)$, where $F_V ()$ is the cumulative distribution function of $V$. Thus, $U_D$ represents the quantiles of $V$. $P(Z)$ denotes the probability of going to college ($D=1$) and will be henceforth called *propensity score*.\n",
    "\n",
    "The marginal treatment effect (*MTE*) in the generalized Roy model is $E(Y_1 − Y_0 | X = x, V = v)$ or equivalently $E(Y_1−Y_0|X = x, U_D = u_D)$. <br>\n",
    "*MTEs* measure average gains in outcomes for people with particular values of $X$ and the unobserved resistance to treatment $U_D$. Alternatively, the MTE can be interpreted as the mean return to treatment for individuals at a particular margin of indifference."
   ]
  },
  {
   "cell_type": "markdown",
   "metadata": {},
   "source": [
    "# The *LIV* Framework"
   ]
  },
  {
   "cell_type": "markdown",
   "metadata": {},
   "source": [
    "We follow the steps outlined in Carneiro et al. (2011) and [Heckman, Urzua, & Vytlacil (2006)](http://jenni.uchicago.edu/underiv/documentation_2006_03_20.pdf) in constructing the *Local Instrumental Variable* (LIV) estimator.\n",
    "Caneiro et al. (2011) work with the following linear-in-the-parameters version of the generalized Roy model:\n",
    "\n",
    "$$E(Y|X = x, P(Z) = p) =  x \\beta_0 + p x (\\beta_1 - \\beta_0) + K(p) \\ \\ \\ \\mathrm{(1)}$$\n",
    "\n",
    "where they estimate $K(p) = E(U_1 - U_0 | S = 1, P(Z) = p)$ nonparametrically. $K(p$) is a nonlinear function of $p$ that captures heterogeneity along the unobservable resistance to treatment $u_D$.\n",
    "\n",
    "This expression indicates that in general the computation of the MTE involves the estimation of the partial derivative of the expectation of the outcome $Y$ (conditional on $X = x$ and $P(Z) = p$) with respect to $p$. This is the method of local instrumental variables introduced in Heckman and Vytlacil ([2001](https://www.aeaweb.org/articles?id=10.1257/aer.91.2.107)).\n",
    "\n",
    "Taking the derivative of this expression with respect to $p$ and evaluating it at $u_D,$ we get the *MTE*, as shown by Heckman and Vytlacil ([2001](https://www.aeaweb.org/articles?id=10.1257/aer.91.2.107), [2005](https://www.jstor.org/stable/3598865?seq=1#page_scan_tab_contents)):\n",
    "\n",
    "$$\\Delta^{LIV} (x, u_D) \\ = \\frac{E(Y|X = x, P(Z) = p)}{\\partial p} \\ \\bigg\\rvert_{p = u_D}  =  x' (\\beta_1 - \\beta_0) + \\frac{\\partial K(p)}{\\partial p} \\ \\bigg\\rvert_{p = u_D} = \\ \\Delta^{MTE} (x, u_D) \\ $$\n",
    "\n",
    "The columns of $X$ are fixed at their mean values in the sample, denoted by $x$. In order to compute the *MTE* we need to estimate values for $(\\beta_1 - \\beta_0)$ and $\\frac{\\partial K}{\\partial p}$. Without further assumptions on the structure of the unobservables $\\{U_1, U_0, V\\}$ this last part needs to be estimated nonparametrically. "
   ]
  },
  {
   "cell_type": "markdown",
   "metadata": {},
   "source": [
    "# Replication"
   ]
  },
  {
   "cell_type": "markdown",
   "metadata": {},
   "source": [
    "### Data Preparation"
   ]
  },
  {
   "cell_type": "markdown",
   "metadata": {},
   "source": [
    "Since the replication material does not contain geographic identifiers, we are unable to merge the separate data files so that they recreate the original data set. Therefore, we need to create a mock data set where indivudal specific data and local characteristics are merged arbitrarily (note, however, that the basic and local data are merged the same way each time, so we always work with the same mock data set)."
   ]
  },
  {
   "cell_type": "markdown",
   "metadata": {},
   "source": [
    "The function below adds squared and interaction terms to the Cainero data set and is copied from the *auxiliary.py* file located in the *grmpy* repository on [GitHub](https://github.com/OpenSourceEconomics/grmpy/tree/master/promotion/04_grmpy_tutorial_notebook)."
   ]
  },
  {
   "cell_type": "code",
   "execution_count": 3,
   "metadata": {},
   "outputs": [],
   "source": [
    "def process_data(df, output_file):\n",
    "    \"\"\"This function adds squared and interaction terms to the Carneiro data set.\"\"\"\n",
    "\n",
    "    # Delete redundant columns\\n\",\n",
    "    for key_ in [\"newid\", \"caseid\"]:\n",
    "        del df[key_]\n",
    "\n",
    "    # Add squared terms\n",
    "    for key_ in [\"mhgc\", \"cafqt\", \"avurate\", \"lurate_17\", \"numsibs\", \"lavlocwage17\"]:\n",
    "        str_ = key_ + \"sq\"\n",
    "        df[str_] = df[key_] ** 2\n",
    "\n",
    "    # Add interaction terms\n",
    "    for j in [\"pub4\", \"lwage5_17\", \"lurate_17\", \"tuit4c\"]:\n",
    "        for i in [\"cafqt\", \"mhgc\", \"numsibs\"]:\n",
    "            df[j + i] = df[j] * df[i]"
   ]
  },
  {
   "cell_type": "code",
   "execution_count": 4,
   "metadata": {},
   "outputs": [],
   "source": [
    "basic = pd.read_stata('data/basicvariables.dta')\n",
    "local = pd.read_stata('data/localvariables.dta') \n",
    "df = pd.concat([basic, local], axis = 1)\n",
    "process_data(df,'data/aer-replication-mock')"
   ]
  },
  {
   "cell_type": "markdown",
   "metadata": {},
   "source": [
    "## $\\mathrm{1)}$ Estimate propensity score $\\hat{P}(z)$"
   ]
  },
  {
   "cell_type": "markdown",
   "metadata": {},
   "source": [
    "The first step in the computation of the *MTE* is to estimate the probability of participation or *propensity score*, $Pr(D = 1|Z = z) = P(z)$. Before we do that, select the observables $Z$ of the choice equation."
   ]
  },
  {
   "cell_type": "code",
   "execution_count": 5,
   "metadata": {},
   "outputs": [],
   "source": [
    "Z_df = df[['const',\n",
    " 'cafqt',\n",
    " 'cafqtsq',\n",
    " 'mhgc',\n",
    " 'mhgcsq',\n",
    " 'numsibs',\n",
    " 'numsibssq',\n",
    " 'urban14',\n",
    " 'lavlocwage17',\n",
    " 'lavlocwage17sq',\n",
    " 'avurate',\n",
    " 'avuratesq',\n",
    " 'd57',\n",
    " 'd58',\n",
    " 'd59',\n",
    " 'd60',\n",
    " 'd61',\n",
    " 'd62',\n",
    " 'd63',\n",
    " 'lwage5_17numsibs',\n",
    " 'lwage5_17mhgc',\n",
    " 'lwage5_17cafqt',\n",
    " 'lwage5_17',\n",
    " 'lurate_17',\n",
    " 'lurate_17numsibs',\n",
    " 'lurate_17mhgc',\n",
    " 'lurate_17cafqt',\n",
    " 'tuit4c',\n",
    " 'tuit4cnumsibs',\n",
    " 'tuit4cmhgc',\n",
    " 'tuit4ccafqt',\n",
    " 'pub4',\n",
    " 'pub4numsibs',\n",
    " 'pub4mhgc',\n",
    " 'pub4cafqt']]"
   ]
  },
  {
   "cell_type": "markdown",
   "metadata": {},
   "source": [
    "The *'state'* variable denotes state of treatment ($D = 1$ or $D = 0$). As Carneiro et al. (2011), we run a logit regression of $Z$ on $D$. Fitting the choice model with probit produces similar results."
   ]
  },
  {
   "cell_type": "code",
   "execution_count": 6,
   "metadata": {},
   "outputs": [],
   "source": [
    "logitRslt = sm.Logit(df['state'], Z_df).fit(disp=0)\n",
    "ps = logitRslt.predict(Z_df)\n",
    "#print(logitRslt.summary())"
   ]
  },
  {
   "cell_type": "markdown",
   "metadata": {},
   "source": [
    "## $\\mathrm{2)}$ Plot the support of $\\hat{P}(z)$ for $D = 1$ and $D = 0$, find common support and trim the data"
   ]
  },
  {
   "cell_type": "markdown",
   "metadata": {},
   "source": [
    "The predicted values of the propensity score allow us to define the values of $u_D$ over which the *MTE* can be identified.  Identification of the *MTE* depends critically on the *common support* of the propensity score. Common support is defined as the intersection of the support of $P(z)$ given $D = 1$ and the support of $P(z)$ given $D = 0$. i.e. those evaluations of $P(z)$ for which we obtain positive frequencies for both subsamples. \n",
    "\n",
    "After identifying the common support of the propensity score, it is necessary to adjust the sample: Observations for which $\\hat{P}(z)$ is contained in the common support are kept. The rest of the sample is dropped."
   ]
  },
  {
   "cell_type": "markdown",
   "metadata": {},
   "source": [
    "In order to define the common support we first estimate the frequencies of the predicted propensity scores in the samples of treated $(D = 1)$ and untreated $(D = 0)$ individuals. "
   ]
  },
  {
   "cell_type": "code",
   "execution_count": 7,
   "metadata": {},
   "outputs": [],
   "source": [
    "df['ps'] = ps\n",
    "treated = df[['state', 'ps']][df['state'] == 1]\n",
    "untreated = df[['state', 'ps']][df['state'] == 0]"
   ]
  },
  {
   "cell_type": "markdown",
   "metadata": {},
   "source": [
    "Display the frequencies in a histogram using 25 bins."
   ]
  },
  {
   "cell_type": "code",
   "execution_count": 8,
   "metadata": {},
   "outputs": [
    {
     "data": {
      "image/png": "[encoded data removed]",
      "text/plain": [
       "<Figure size 432x288 with 1 Axes>"
      ]
     },
     "metadata": {
      "needs_background": "light"
     },
     "output_type": "display_data"
    }
   ],
   "source": [
    "pyplot.hist(treated['ps'], bins=25, alpha=0.55, label='treated', density=False)\n",
    "pyplot.hist(untreated['ps'], bins=25, alpha=0.55, label='untreated', density=False)\n",
    "pyplot.legend(loc='upper center')\n",
    "pyplot.grid(axis='y', alpha=0.5)\n",
    "pyplot.xlabel('Value')\n",
    "pyplot.ylabel('Frequency')\n",
    "pyplot.title('Support of P(Z) for D=1 and D=0')\n",
    "pyplot.show()"
   ]
  },
  {
   "cell_type": "code",
   "execution_count": 9,
   "metadata": {},
   "outputs": [
    {
     "name": "stdout",
     "output_type": "stream",
     "text": [
      "0.9670786072336038\n",
      "0.053615848983571426\n"
     ]
    }
   ],
   "source": [
    "# Common support\n",
    "print(np.max(untreated['ps']))\n",
    "print(np.min(treated['ps']))"
   ]
  },
  {
   "cell_type": "markdown",
   "metadata": {},
   "source": [
    "Carneiro et al. (2011) find common support between 0.0324 and 0.9775."
   ]
  },
  {
   "cell_type": "markdown",
   "metadata": {},
   "source": [
    "An alternative, as suggested by Heckman (2006), would be to use a set $\\mathcal{P}$ of prespecified evaluation points. In this case, in order to compute the predicted value of $X_k$ for each individual, it would be necessary to replace her value of the predicted propensity score by the closest value in $\\mathcal{P}$."
   ]
  },
  {
   "cell_type": "code",
   "execution_count": 10,
   "metadata": {},
   "outputs": [],
   "source": [
    "# Trim the data\n",
    "df_trim = df[(df.ps >= np.min(treated['ps'])) & (df.ps <= np.max(untreated['ps']))]\n",
    "ps_trim = ps[(ps >= np.min(treated['ps'])) & (ps <= np.max(untreated['ps']))]"
   ]
  },
  {
   "cell_type": "markdown",
   "metadata": {},
   "source": [
    "## $\\mathrm{3)}$ Double Residual Regression"
   ]
  },
  {
   "cell_type": "markdown",
   "metadata": {},
   "source": [
    "*LOESS (Locally Estimated Scatterplot Smoothing)* and *LOWESS (Locally Weighted Scatterplot Smoothing)* are the two most common methods of local regression or, equivalently called, local polynomial regression.\n",
    "Because of their poularity, packages for the implementation of loess and lowess are available for the majority of programming languages out there. Statsmodels provides a lowess function for Python:\n",
    "\n",
    "https://www.statsmodels.org/stable/generated/statsmodels.nonparametric.smoothers_lowess.lowess.html\n",
    "\n",
    "The function defined in the following utilizes the statsmodels package *lowess* for the implementation of a double residual regression procedure ([Robinson, 1988](https://www.jstor.org/stable/1912705?seq=1#page_scan_tab_contents)). In order to do so, we start by fitting a local linear regression of each regressor in equation (1) on the predicted propensity score $\\hat{P}(z)$. Note that\n",
    "\n",
    "$$E(Y |X = x, P(Z) = p) = \\alpha + \\beta_0 x + ((\\beta_1 - \\beta_0) x) p + K(p) \\ \\ \\ \\mathrm{(1)}$$\n",
    "\n",
    "also contains terms of the form $X_k \\hat{P}(z) \\ := \\ X \\ \\mathrm{x} \\ p$ for our $k = 1,...,n_X$ regressors. Hence, we need to estimate $2$  x $n_X$ local linear regressions, i.e. $n_X$ regressions of $X$ on $\\hat{P}(z)$ and another $n_X$ times of $X$ x $p$ on $\\hat{P}(z)$. We store the predicted value of $X_k$ for each column $k$ and each individual $j$, denoted by $\\hat{X}_k (j)$, and compute its residual:\n",
    "\n",
    "$$e_{X_k} = X_k(j) \\ - \\ \\hat{X}_k (j)$$\n",
    "\n",
    "Analogously, we repeat this exercise $n_X$ times for all $X$ x $p$ variables.\n",
    "\n",
    "We also need to estimate a local linear regression of $Y$ on $\\hat{P}(z)$ and generate the residual associated with outcome $Y$ for each person $j$:\n",
    "\n",
    "$$e_{Y} = Y(j) \\ - \\ \\hat{Y} (j)$$\n",
    "\n",
    "Local linear regressions for these three sets of variables yield residuals $e_x$, $e_{X \\ \\mathrm{x} \\ P}$ and $e_Y$."
   ]
  },
  {
   "cell_type": "markdown",
   "metadata": {},
   "source": [
    "### $\\mathrm{3a)}$ Fit *local linear regressions* of $X$, $X$ x $p$ and $Y$ on $\\hat{P}(z)$"
   ]
  },
  {
   "cell_type": "markdown",
   "metadata": {},
   "source": [
    "First, sort the trimmed data by the propensity score. This step is necessary because *statsmodels's* lowess function requires the input variables to be sorted by the independent variable, here $\\hat{P}(z)$. "
   ]
  },
  {
   "cell_type": "code",
   "execution_count": 11,
   "metadata": {},
   "outputs": [],
   "source": [
    "df_trim = df_trim.sort_values(by='ps', ascending=True)\n",
    "ps_trim = np.sort(ps_trim)"
   ]
  },
  {
   "cell_type": "markdown",
   "metadata": {},
   "source": [
    "Select regressors $X$."
   ]
  },
  {
   "cell_type": "code",
   "execution_count": 12,
   "metadata": {},
   "outputs": [],
   "source": [
    "X_trim = df_trim[['const',\n",
    "'exp', \n",
    "'expsq', \n",
    "'lwage5', \n",
    "'lurate', \n",
    "'cafqt', \n",
    "'cafqtsq', \n",
    "'mhgc', \n",
    "'mhgcsq', \n",
    "'numsibs', \n",
    "'numsibssq', \n",
    "'urban14', \n",
    "'lavlocwage17', \n",
    "'lavlocwage17sq', \n",
    "'avurate', \n",
    "'avuratesq', \n",
    "'d57', \n",
    "'d58', \n",
    "'d59', \n",
    "'d60', \n",
    "'d61', \n",
    "'d62', \n",
    "'d63']]"
   ]
  },
  {
   "cell_type": "code",
   "execution_count": 13,
   "metadata": {},
   "outputs": [],
   "source": [
    "X_trim.reset_index(drop=True, inplace=True)"
   ]
  },
  {
   "cell_type": "markdown",
   "metadata": {},
   "source": [
    "Construct regressor $X_k \\hat{P}(z) \\ := \\ X \\ \\mathrm{x} \\ p \\$"
   ]
  },
  {
   "cell_type": "code",
   "execution_count": 14,
   "metadata": {},
   "outputs": [],
   "source": [
    "# Set up a N x k matix where each column contains the elements of the sorted N x 1 propensity score\n",
    "N = len(X_trim)\n",
    "ps_trim = pd.Series(ps_trim)\n",
    "P_z = pd.concat([ps_trim]*len(X_trim.columns), axis=1, ignore_index=True)\n",
    "\n",
    "# Construct Xp\n",
    "Xp_trim = pd.DataFrame(X_trim.values*P_z.values, columns=[key_ + \"_ps\" for key_ in list(X_trim)], index=X_trim.index)"
   ]
  },
  {
   "cell_type": "markdown",
   "metadata": {},
   "source": [
    "Define function to calculate lowess residuals."
   ]
  },
  {
   "cell_type": "code",
   "execution_count": 15,
   "metadata": {},
   "outputs": [],
   "source": [
    "lowess = sm.nonparametric.lowess"
   ]
  },
  {
   "cell_type": "code",
   "execution_count": 16,
   "metadata": {},
   "outputs": [],
   "source": [
    "def lowess_residuals(ydata, xdata, bw, it_):\n",
    "    \"\"\" This function implements a lowess regression of ydata on xdata and computes \n",
    "    the corresponding y residuals.\n",
    "    \n",
    "    frac: The fraction of the data, i.e. bandwidth, used when estimating each y-value.\n",
    "    it_: The number of residual-based reweightings to perform.\n",
    "    \"\"\"\n",
    "\n",
    "    # Turn input data into np arrays\n",
    "    ydata = np.array(ydata)\n",
    "    xdata = np.array(xdata)\n",
    "        \n",
    "    # Determine number observations and number of columns\n",
    "    N = len(ydata)\n",
    "    col_len = len(ydata[0])\n",
    "    \n",
    "    # Lowess function to obtain fitted values for ydata. These are contained \n",
    "    # in the second column of the 2D array generated by the lowess function.\n",
    "    y_fit = np.zeros([N, col_len])\n",
    "        \n",
    "    for i in range(col_len):\n",
    "        y_fit[:, i] = lowess(ydata[:, i], xdata, frac=bw, it=it_, is_sorted=True)[:,1]\n",
    "        \n",
    "        \n",
    "    # Compute residuals by subtracting the fitted values from the actual values\n",
    "    res = np.zeros([N, col_len])\n",
    "                 \n",
    "    for i in range(col_len):\n",
    "        res[:, i] = ydata[:, i] - y_fit[:, i]\n",
    "                 \n",
    "    return res"
   ]
  },
  {
   "cell_type": "markdown",
   "metadata": {},
   "source": [
    "Now, use this function and compute the lowess residuals of $X$, $X$ x $p$ and $Y$. Following Carneiro et al. (2011), choose a bandwidth of 0.05."
   ]
  },
  {
   "cell_type": "code",
   "execution_count": 17,
   "metadata": {},
   "outputs": [],
   "source": [
    "#%%time\n",
    "res_X = lowess_residuals(X_trim, ps_trim, 0.05, 1)\n",
    "res_Xp = lowess_residuals(Xp_trim, ps_trim, 0.05, 1)\n",
    "res_Y = lowess_residuals(df_trim[['wage']], ps_trim, 0.05, 1)"
   ]
  },
  {
   "cell_type": "code",
   "execution_count": 18,
   "metadata": {},
   "outputs": [],
   "source": [
    "# Append res_X and res_Xp. Turn resulting array into a data frame to have the variable names \n",
    "# displayed in the output table.\n",
    "col_names = list(X_trim) + list(Xp_trim)\n",
    "res_X_Xp = pd.DataFrame(np.append(res_X, res_Xp, axis=1), columns=col_names)"
   ]
  },
  {
   "cell_type": "markdown",
   "metadata": {},
   "source": [
    "### $\\mathrm{3b)}$ Estimate $\\beta_0$ and $(\\beta_1 - \\beta_0)$ via OLS"
   ]
  },
  {
   "cell_type": "markdown",
   "metadata": {},
   "source": [
    "$$ e_Y =e_X \\beta_0 \\ + \\ e_{X \\ \\mathrm{x} \\ P} (\\beta_1 - \\beta_0) \\ + \\ \\epsilon $$"
   ]
  },
  {
   "cell_type": "code",
   "execution_count": 19,
   "metadata": {},
   "outputs": [
    {
     "name": "stdout",
     "output_type": "stream",
     "text": [
      "                            OLS Regression Results                            \n",
      "==============================================================================\n",
      "Dep. Variable:                      y   R-squared:                       0.071\n",
      "Model:                            OLS   Adj. R-squared:                  0.046\n",
      "Method:                 Least Squares   F-statistic:                     2.822\n",
      "Date:                Tue, 18 Jun 2019   Prob (F-statistic):           3.87e-09\n",
      "Time:                        17:07:04   Log-Likelihood:                -987.20\n",
      "No. Observations:                1659   AIC:                             2062.\n",
      "Df Residuals:                    1615   BIC:                             2301.\n",
      "Df Model:                          44                                         \n",
      "Covariance Type:            nonrobust                                         \n",
      "=====================================================================================\n",
      "                        coef    std err          t      P>|t|      [0.025      0.975]\n",
      "-------------------------------------------------------------------------------------\n",
      "const             -1.111e-11   1.43e-11     -0.779      0.436   -3.91e-11    1.68e-11\n",
      "exp                  -0.0092      0.030     -0.306      0.759      -0.068       0.050\n",
      "expsq                 0.0034      0.002      1.935      0.053   -4.62e-05       0.007\n",
      "lwage5                0.3376      0.170      1.986      0.047       0.004       0.671\n",
      "lurate               -0.0254      0.022     -1.131      0.258      -0.070       0.019\n",
      "cafqt                -0.0169      0.141     -0.120      0.905      -0.293       0.259\n",
      "cafqtsq              -0.0362      0.049     -0.733      0.464      -0.133       0.061\n",
      "mhgc                 -0.0812      0.051     -1.596      0.111      -0.181       0.019\n",
      "mhgcsq                0.0037      0.003      1.349      0.178      -0.002       0.009\n",
      "numsibs               0.0316      0.038      0.839      0.402      -0.042       0.105\n",
      "numsibssq            -0.0022      0.004     -0.571      0.568      -0.010       0.005\n",
      "urban14               0.0416      0.056      0.747      0.455      -0.068       0.151\n",
      "lavlocwage17         -8.2775     12.092     -0.685      0.494     -31.996      15.441\n",
      "lavlocwage17sq        0.3937      0.590      0.667      0.505      -0.764       1.551\n",
      "avurate               0.2328      0.222      1.050      0.294      -0.202       0.668\n",
      "avuratesq            -0.0163      0.017     -0.957      0.339      -0.050       0.017\n",
      "d57                  -0.2348      0.096     -2.455      0.014      -0.422      -0.047\n",
      "d58                  -0.0513      0.096     -0.534      0.594      -0.240       0.137\n",
      "d59                  -0.0251      0.070     -0.360      0.719      -0.162       0.112\n",
      "d60                  -0.0213      0.063     -0.340      0.734      -0.144       0.102\n",
      "d61                   0.0273      0.064      0.429      0.668      -0.098       0.152\n",
      "d62                   0.0308      0.059      0.520      0.603      -0.085       0.147\n",
      "d63                   0.0576      0.063      0.919      0.358      -0.065       0.181\n",
      "const_ps          -2.666e-14   4.86e-13     -0.055      0.956   -9.79e-13    9.26e-13\n",
      "exp_ps                0.1321      0.045      2.910      0.004       0.043       0.221\n",
      "expsq_ps             -0.0117      0.003     -4.089      0.000      -0.017      -0.006\n",
      "lwage5_ps            -0.7117      0.295     -2.415      0.016      -1.290      -0.134\n",
      "lurate_ps             0.0233      0.041      0.563      0.574      -0.058       0.104\n",
      "cafqt_ps              0.1678      0.362      0.463      0.643      -0.543       0.878\n",
      "cafqtsq_ps            0.0489      0.094      0.521      0.602      -0.135       0.233\n",
      "mhgc_ps               0.1695      0.116      1.465      0.143      -0.057       0.397\n",
      "mhgcsq_ps            -0.0064      0.005     -1.235      0.217      -0.017       0.004\n",
      "numsibs_ps           -0.0541      0.073     -0.746      0.456      -0.196       0.088\n",
      "numsibssq_ps          0.0046      0.008      0.557      0.578      -0.012       0.021\n",
      "urban14_ps            0.0524      0.110      0.478      0.633      -0.163       0.268\n",
      "lavlocwage17_ps      16.1718     20.756      0.779      0.436     -24.540      56.883\n",
      "lavlocwage17sq_ps    -0.7602      1.014     -0.750      0.453      -2.749       1.228\n",
      "avurate_ps           -0.1570      0.428     -0.367      0.714      -0.996       0.682\n",
      "avuratesq_ps          0.0104      0.033      0.314      0.753      -0.054       0.075\n",
      "d57_ps                0.6386      0.170      3.764      0.000       0.306       0.971\n",
      "d58_ps                0.3190      0.161      1.986      0.047       0.004       0.634\n",
      "d59_ps                0.0632      0.138      0.459      0.646      -0.207       0.333\n",
      "d60_ps                0.1786      0.118      1.512      0.131      -0.053       0.410\n",
      "d61_ps                0.0225      0.112      0.202      0.840      -0.197       0.242\n",
      "d62_ps               -0.0118      0.108     -0.109      0.913      -0.224       0.201\n",
      "d63_ps               -0.0199      0.113     -0.177      0.860      -0.241       0.201\n",
      "==============================================================================\n",
      "Omnibus:                       74.913   Durbin-Watson:                   2.052\n",
      "Prob(Omnibus):                  0.000   Jarque-Bera (JB):              186.022\n",
      "Skew:                          -0.228   Prob(JB):                     4.04e-41\n",
      "Kurtosis:                       4.576   Cond. No.                     9.02e+15\n",
      "==============================================================================\n",
      "\n",
      "Warnings:\n",
      "[1] Standard Errors assume that the covariance matrix of the errors is correctly specified.\n",
      "[2] The smallest eigenvalue is 8.21e-26. This might indicate that there are\n",
      "strong multicollinearity problems or that the design matrix is singular.\n"
     ]
    }
   ],
   "source": [
    "model = sm.OLS(res_Y, res_X_Xp)\n",
    "results = model.fit()\n",
    "b1 = results.params[:len(list(X_trim))]\n",
    "b1_b0 = results.params[len((list(X_trim))):]\n",
    "\n",
    "print(results.summary())"
   ]
  },
  {
   "cell_type": "markdown",
   "metadata": {},
   "source": [
    "Note that size and significance level of the estimated coefficients varies heavily with the number of iterations chosen, but the final *MTE* plots look similar (see below). "
   ]
  },
  {
   "cell_type": "markdown",
   "metadata": {},
   "source": [
    "## $\\mathrm{4)}$ Construct $\\tilde{Y}$"
   ]
  },
  {
   "cell_type": "markdown",
   "metadata": {},
   "source": [
    "After obtaining the estimated values of ($\\beta_1 - \\beta_0$), only $\\frac{\\partial K(p)}{\\partial p}$ remains to be estimated. To do this we rewrite equation $\\mathrm{(1)}$ to get \n",
    "\n",
    "$$\\tilde{Y} = K(p) + \\epsilon ,$$\n",
    "\n",
    "where $\\tilde{Y} = Y - X' \\widehat{\\beta_0} - X' (\\widehat{\\beta_1 - \\beta_0}) p$. The second and third elements of the right hand side capture the observed part of the heterogeneity in $Y$. <br>\n",
    "Hence, $\\tilde{Y}$ is the residual that captures the heterogeneity along the unobserved component $K(p)$."
   ]
  },
  {
   "cell_type": "code",
   "execution_count": 20,
   "metadata": {},
   "outputs": [],
   "source": [
    "# Prepare arrays\n",
    "ps_arr = np.array(ps_trim)\n",
    "X_arr = np.array(X_trim)\n",
    "Xp_arr = np.array(Xp_trim)\n",
    "Y_arr = df_trim['wage']\n",
    "\n",
    "# Construct the unobserved part of Y\n",
    "Y_tilde = Y_arr - np.dot(X_arr, b1) - np.dot(Xp_arr, b1_b0)"
   ]
  },
  {
   "cell_type": "markdown",
   "metadata": {},
   "source": [
    "## $\\mathrm{5)}$ Estimate $\\frac{\\partial K}{\\partial p}$ through a locally quadratic regression"
   ]
  },
  {
   "cell_type": "markdown",
   "metadata": {},
   "source": [
    "$\\frac{\\partial K}{\\partial p}$ is the first derivative of a local polynomial regression of $\\tilde{Y}$ on $\\hat{P}(z)$. \n",
    "This is the component of the *MTE* formula that depends on the unobserved resistance to treatment $u_D$.\n",
    "[Fan and Gijbels (1996)](https://www.amazon.com/Local-Polynomial-Modelling-Its-Applications/dp/0412983214) suggest that the order $n$ of the polynomial be equal to $\\pi = \\tau + 1$, where $\\tau$ is the order of the derivative of the function of interest to be fitted. That is, Fan and Gijbels recommend a local linear estimator for fitting a function and a local quadratic estimator for fitting a first-order derivative. Therefore, Carneiro et al. (2011) use a local quadratic estimator of $\\frac{\\partial K}{\\partial p}$. <br>\n",
    "They choose the bandwidth that minimizes the residual square criterion proposed in Fan and Gijbels, which yields a bandwidth of 0.322.\n",
    "\n",
    "Unfortunately, there is currently no Python package out there that can fit a locally quadratic regression. \n",
    "Statsmodels's Kernel Regression can only implement local polynomials up to degree 1 (https://www.statsmodels.org/stable/generated/statsmodels.nonparametric.kernel_regression.KernelReg.html). <br>\n",
    "\n",
    "Thus, we load R's **KernSmooth package** via Rpy2. We will use the function **locpoly** to estimate a local polynomial regression of order 2 (https://www.rdocumentation.org/packages/KernSmooth/versions/2.23-15/topics/locpoly)."
   ]
  },
  {
   "cell_type": "code",
   "execution_count": 21,
   "metadata": {},
   "outputs": [],
   "source": [
    "%load_ext rpy2.ipython"
   ]
  },
  {
   "cell_type": "code",
   "execution_count": 22,
   "metadata": {},
   "outputs": [
    {
     "data": {
      "text/html": [
       "\n",
       "    <span>ListVector with 2 elements.</span>\n",
       "    <table>\n",
       "      <tbody>\n",
       "      \n",
       "      <tr>\n",
       "      <th>\n",
       "        x\n",
       "      </th>\n",
       "      <td>\n",
       "        \n",
       "    <span>FloatVector with 500 elements.</span>\n",
       "    <table>\n",
       "      <tbody>\n",
       "      <tr>\n",
       "      \n",
       "      <td>\n",
       "        0.005000\n",
       "      </td>\n",
       "      \n",
       "      <td>\n",
       "        0.006984\n",
       "      </td>\n",
       "      \n",
       "      <td>\n",
       "        0.008968\n",
       "      </td>\n",
       "      \n",
       "      <td>\n",
       "        0.010952\n",
       "      </td>\n",
       "      \n",
       "      <td>\n",
       "        ...\n",
       "      </td>\n",
       "      \n",
       "      <td>\n",
       "        0.989048\n",
       "      </td>\n",
       "      \n",
       "      <td>\n",
       "        0.991032\n",
       "      </td>\n",
       "      \n",
       "      <td>\n",
       "        0.993016\n",
       "      </td>\n",
       "      \n",
       "      <td>\n",
       "        0.995000\n",
       "      </td>\n",
       "      \n",
       "      </tr>\n",
       "      </tbody>\n",
       "    </table>\n",
       "    \n",
       "      </td>\n",
       "      </tr>\n",
       "      \n",
       "      <tr>\n",
       "      <th>\n",
       "        y\n",
       "      </th>\n",
       "      <td>\n",
       "        \n",
       "    <span>FloatVector with 500 elements.</span>\n",
       "    <table>\n",
       "      <tbody>\n",
       "      <tr>\n",
       "      \n",
       "      <td>\n",
       "        -78.117464\n",
       "      </td>\n",
       "      \n",
       "      <td>\n",
       "        -78.123513\n",
       "      </td>\n",
       "      \n",
       "      <td>\n",
       "        -78.129544\n",
       "      </td>\n",
       "      \n",
       "      <td>\n",
       "        -78.135557\n",
       "      </td>\n",
       "      \n",
       "      <td>\n",
       "        ...\n",
       "      </td>\n",
       "      \n",
       "      <td>\n",
       "        -79.623212\n",
       "      </td>\n",
       "      \n",
       "      <td>\n",
       "        -79.622918\n",
       "      </td>\n",
       "      \n",
       "      <td>\n",
       "        -79.622599\n",
       "      </td>\n",
       "      \n",
       "      <td>\n",
       "        -79.622255\n",
       "      </td>\n",
       "      \n",
       "      </tr>\n",
       "      </tbody>\n",
       "    </table>\n",
       "    \n",
       "      </td>\n",
       "      </tr>\n",
       "      \n",
       "      </tbody>\n",
       "    </table>\n",
       "    "
      ],
      "text/plain": [
       "R object with classes: ('list',) mapped to:\n",
       "<ListVector - Python:0x1c3103afc8 / R:0x7f9b2cc9bc88>\n",
       "[FloatVector, FloatVector]\n",
       "  x: <class 'rpy2.robjects.vectors.FloatVector'>\n",
       "  R object with classes: ('numeric',) mapped to:\n",
       "<FloatVector - Python:0x1c3103ae48 / R:0x7f9b25ed9a00>\n",
       "[0.005000, 0.006984, 0.008968, 0.010952, ..., 0.989048, 0.991032, 0.993016, 0.995000]\n",
       "  y: <class 'rpy2.robjects.vectors.FloatVector'>\n",
       "  R object with classes: ('numeric',) mapped to:\n",
       "<FloatVector - Python:0x1c2fdc8108 / R:0x7f9b26999600>\n",
       "[-78.117464, -78.123513, -78.129544, -78.135557, ..., -79.623212, -79.622918, -79.622599, -79.622255]"
      ]
     },
     "execution_count": 22,
     "metadata": {},
     "output_type": "execute_result"
    }
   ],
   "source": [
    "# Import the relevant variables for the locally quadratic estimation of K(p)\n",
    "%R -i Y_tilde\n",
    "%R -i ps_arr\n",
    "%R Y_tilde <- as.matrix(Y_tilde)\n",
    "%R ps_arr <- as.matrix(ps_arr)\n",
    "\n",
    "# Set drv = 1L to estimate the first derivative.\n",
    "%R mte_u_poly <- locpoly(ps_arr, Y_tilde, drv = 1L, degree=2, bandwidth = 0.322, gridsize=500L, range.x = c(0.005, 0.995))"
   ]
  },
  {
   "cell_type": "markdown",
   "metadata": {},
   "source": [
    "Use 500 equally spaced evaluation points within the common support of 0.0536 and 0.9671.\n",
    "By setting *range.x* to (0.005, 0.995) $\\frac{\\partial K}{\\partial p}$ is additionally estimated for values of $P(z)$ outside the common support. This way we can fully compare our replicated results to the original ones from Figure 4 in Carneiro et al. (2011) who have common support between 0.0324 and 0.9775 but plot marginal treatment effects in the full range from 0 to 1 as well.\n",
    "\n",
    "Note that extending the set of evaluation points to values outside the common support does not alter the estimates for $\\frac{\\partial K}{\\partial p}$ within the range of our data."
   ]
  },
  {
   "cell_type": "code",
   "execution_count": 24,
   "metadata": {},
   "outputs": [],
   "source": [
    "# Return mte_u, the component that depends on the derivative of K(p) evaluated at p=u, \n",
    "# as well as the quantiles of p=u as data frames and export them back into Python.\n",
    "%R mte_u <- mte_u_poly$y\n",
    "%R mte_u <- data.frame(mte_u)\n",
    "%R quantiles_u <- mte_u_poly$x\n",
    "%R quantiles <- data.frame(quantiles_u)\n",
    "\n",
    "%R -o mte_u\n",
    "%R -o quantiles"
   ]
  },
  {
   "cell_type": "markdown",
   "metadata": {},
   "source": [
    "## $\\mathrm{6)}$ Construct *MTE*"
   ]
  },
  {
   "cell_type": "markdown",
   "metadata": {},
   "source": [
    "Recall the *MTE* formula:\n",
    "\n",
    "$$\\Delta^{MTE} (x, u_D) \\ = \\ x' (\\beta_1 - \\beta_0) + \\frac{\\partial K(p)}{\\partial p} \\ \\bigg\\rvert_{p = u_D}$$"
   ]
  },
  {
   "cell_type": "markdown",
   "metadata": {},
   "source": [
    "Calculate the *MTE* component that depends on $X$."
   ]
  },
  {
   "cell_type": "code",
   "execution_count": 25,
   "metadata": {},
   "outputs": [],
   "source": [
    "mte_x = np.dot(X_trim, b1_b0).mean(axis=0)"
   ]
  },
  {
   "cell_type": "markdown",
   "metadata": {},
   "source": [
    "Put the MTE together."
   ]
  },
  {
   "cell_type": "code",
   "execution_count": 26,
   "metadata": {},
   "outputs": [],
   "source": [
    "mte = mte_x + mte_u"
   ]
  },
  {
   "cell_type": "markdown",
   "metadata": {},
   "source": [
    "The MTE just calculated refers to the benefits of obtaining a 4 year college degree.\n",
    "To get an estimate of the benefits of one additional year of college education divide the *MTE* by four."
   ]
  },
  {
   "cell_type": "code",
   "execution_count": 27,
   "metadata": {},
   "outputs": [],
   "source": [
    "mte_4 = mte/4"
   ]
  },
  {
   "cell_type": "markdown",
   "metadata": {},
   "source": [
    "# Robustness"
   ]
  },
  {
   "cell_type": "markdown",
   "metadata": {},
   "source": [
    "As one source of variability in this setup certainly stems from the construction of residuals in the double residual regression procedure described in section $\\mathrm{3a)}$, I compute the *MTE* for two alternative specifications. First, I use 10 iterations. Second, I utilize the *R function loess* to calculate the residuals. <br>\n",
    "Note that R's *loess* function does not come with an option specifying the number of iterations, i.e. residual-based reweightings to perform. "
   ]
  },
  {
   "cell_type": "markdown",
   "metadata": {},
   "source": [
    "### Choose 10 lowess iterations"
   ]
  },
  {
   "cell_type": "code",
   "execution_count": 28,
   "metadata": {},
   "outputs": [],
   "source": [
    "# Compute the lowess residuals of X, Xp and Y\n",
    "res_X_10 = lowess_residuals(X_trim, ps_trim, 0.05, 10)\n",
    "res_Xp_10 = lowess_residuals(Xp_trim, ps_trim, 0.05, 10)\n",
    "res_Y_10 = lowess_residuals(df_trim[['wage']], ps_trim, 0.05, 10)\n",
    "\n",
    "res_X_Xp_10 = np.append(res_X_10, res_Xp_10, axis=1)\n",
    "\n",
    "model_10 = sm.OLS(res_Y_10, res_X_Xp_10)\n",
    "results_10 = model_10.fit()\n",
    "b1_10 = results_10.params[:len(list(X_trim))]\n",
    "b1_b0_10 = results_10.params[len((list(X_trim))):]\n",
    "\n",
    "# prepare arrays\n",
    "ps_arr_10 = np.array(ps_trim)\n",
    "X_arr_10 = np.array(X_trim)\n",
    "Xp_arr_10 = np.array(Xp_trim)\n",
    "Y_arr_10 = df_trim['wage']\n",
    "\n",
    "# compute the unobserved part of Y\n",
    "Y_tilde_10 = Y_arr_10 - np.dot(X_arr_10, b1_10) - np.dot(Xp_arr_10, b1_b0_10)\n",
    "        \n",
    "%reload_ext rpy2.ipython\n",
    "    \n",
    "%R -i Y_tilde_10\n",
    "%R -i ps_arr_10\n",
    "%R Y_tilde_10 <- as.matrix(Y_tilde_10)\n",
    "%R ps_arr_10 <- as.matrix(ps_arr_10)\n",
    "\n",
    "%R mte_u_poly_10 <- locpoly(ps_arr_10, Y_tilde_10, drv = 1L, degree=2, bandwidth = 0.322, gridsize = 500L, range.x = c(0.005, 0.995))\n",
    "\n",
    "# Return the mte_u component and the quantiles of u_D as data frames and export them back into Python.\n",
    "%R mte_u_10 <- mte_u_poly_10$y\n",
    "%R mte_u_10 <- data.frame(mte_u_10)\n",
    "%R quantiles_10 <- mte_u_poly_10$x\n",
    "%R quantiles_10 <- data.frame(quantiles_10)\n",
    "\n",
    "%R -o mte_u_10\n",
    "%R -o quantiles_10\n",
    "    \n",
    "mte_x_10 = np.dot(X_trim, b1_b0_10).mean(axis=0)\n",
    "mte_10 = mte_x_10 + mte_u_10\n",
    "    \n",
    "# Annulaize mte\n",
    "mte_4_10 = mte_10/4"
   ]
  },
  {
   "cell_type": "markdown",
   "metadata": {},
   "source": [
    "### Use R's loess function to compute residuals"
   ]
  },
  {
   "cell_type": "code",
   "execution_count": 29,
   "metadata": {},
   "outputs": [],
   "source": [
    "# Define Y_trim\n",
    "Y_trim = df_trim[['wage']]\n",
    "    \n",
    "%reload_ext rpy2.ipython\n",
    "        \n",
    "%R -i X_trim\n",
    "%R -i Xp_trim\n",
    "%R -i Y_trim\n",
    "%R -i ps_trim\n",
    "\n",
    "%R X <- as.matrix(X_trim)\n",
    "%R Xp <- as.matrix(Xp_trim)\n",
    "%R Y <- as.matrix(Y_trim)\n",
    "%R ps <- as.matrix(ps_trim)\n",
    "\n",
    "# Compute the lowess residuals of X, Xp and Y    \n",
    "%R res_Y_R <- loess(Y ~ ps, span = 0.05, degree = 1)$res\n",
    "%R res_X_R <- apply(X, 2, function(x) loess(x ~ ps, span = 0.05, degree = 1)$res)\n",
    "%R res_Xp_R <- apply(Xp, 2, function(x) loess(x ~ ps, span = 0.05, degree = 1)$res)\n",
    "\n",
    "%R res_Y_R <- data.frame(res_Y_R)\n",
    "%R res_X_R <- data.frame(res_X_R)\n",
    "%R res_Xp_R <- data.frame(res_Xp_R)\n",
    "\n",
    "%R -o res_Y_R\n",
    "%R -o res_X_R\n",
    "%R -o res_Xp_R\n",
    "\n",
    "# Append res_X and res_Xp. \n",
    "res_X_Xp_R = np.append(res_X_R, res_Xp_R, axis=1)\n",
    "\n",
    "model_R = sm.OLS(res_Y_R, res_X_Xp_R)\n",
    "results_R = model_R.fit()\n",
    "b1_R = results_R.params[:len(list(X_trim))]\n",
    "b1_b0_R = results_R.params[len((list(X_trim))):]\n",
    "\n",
    "# prepare arrays\n",
    "ps_arr_R = np.array(ps_trim)\n",
    "X_arr_R = np.array(X_trim)\n",
    "Xp_arr_R = np.array(Xp_trim)\n",
    "Y_arr_R = df_trim['wage']\n",
    "\n",
    "# compute the unobserved part of Y\n",
    "Y_tilde_R = Y_arr_R - np.dot(X_arr_R, b1_R) - np.dot(Xp_arr_R, b1_b0_R)\n",
    "        \n",
    "%reload_ext rpy2.ipython\n",
    "    \n",
    "%R -i Y_tilde_R\n",
    "%R -i ps_arr_R\n",
    "%R Y_tilde_R <- as.matrix(Y_tilde_R)\n",
    "%R ps_arr_R <- as.matrix(ps_arr_R)\n",
    "\n",
    "%R mte_u_poly_R <- locpoly(ps_arr_R, Y_tilde_R, drv = 1L, degree=2, bandwidth = 0.322, gridsize = 500L, range.x = c(0.005, 0.995))\n",
    "\n",
    "# Return the mte_u component and the quantiles of u_D as data frames and export them back into Python.\n",
    "%R mte_u_R <- mte_u_poly_R$y\n",
    "%R mte_u_R <- data.frame(mte_u_R)\n",
    "%R quantiles_R <- mte_u_poly_R$x\n",
    "%R quantiles_R <- data.frame(quantiles_R)\n",
    "\n",
    "%R -o mte_u_R\n",
    "%R -o quantiles_R\n",
    "    \n",
    "mte_x_R = np.dot(X_trim, b1_b0_R).mean(axis=0)\n",
    "mte_R = mte_x_R + mte_u_R\n",
    "    \n",
    "# Annulaize mte\n",
    "mte_4_R = mte_R/4"
   ]
  },
  {
   "cell_type": "markdown",
   "metadata": {},
   "source": [
    "## Bootstrap standard errors and compute 90% confidence intervals  "
   ]
  },
  {
   "cell_type": "markdown",
   "metadata": {},
   "source": [
    "Following in Carneiro et al. (2011), bootstrapped standard errors are used to compute 90 percent confidence intervals (250 iterations). To keep this notebook concise, the bootstrapping is done in another notebook. The estimates for the bootstrapped standard errors are stored and imported below. With every iteration of the bootstrap, $\\hat{P}(z)$ is reestimated, too, so the evaluation points $u_D$ over which to compute the *MTE* vary with each iteration. Carneiro et al. (2011) don't mention how they deal with this circumstance, so I simply compute the mean for each row of the 500 points that are reproduced with each bootstrap. The means for the bootstrapped quantiles $u_D$ are imported below as well."
   ]
  },
  {
   "cell_type": "markdown",
   "metadata": {},
   "source": [
    "First, draw $B = 250$ independent bootstrap samples and compute the *MTE* $ \\ \\hat{\\theta}^{MTE}(b)$ for each bootstrap replication $b = 1,..,B$, where $B$ is the number of bootstrap samples used. Second, estimate the standard error of $\\hat{\\theta}^{MTE}$, denoted by $\\widehat{\\mathbf{se}}_B$, separately for each gridpoint $u_D$:\n",
    "\n",
    "$$ \\widehat{\\mathbf{se}}_B = \\frac{1}{B-1} \\sum_{b = 1}^{B}{\\{ \\hat{\\theta}}^{MTE}(b) \\ - \\ \\hat{\\theta}^{MTE}(\\cdot)    \\}^2 $$\n",
    "\n",
    "where $\\hat{\\theta}^{MTE}(\\cdot) = B^{-1} \\sum_{b = 1}^{B}{ \\hat{\\theta}}^{MTE}(b)$."
   ]
  },
  {
   "cell_type": "code",
   "execution_count": 30,
   "metadata": {},
   "outputs": [],
   "source": [
    "se_R = pd.read_csv('se_R.csv').iloc[:,1]\n",
    "u_R_mean = pd.read_csv('quantiles_R_mean.csv').iloc[:,1]"
   ]
  },
  {
   "cell_type": "code",
   "execution_count": 31,
   "metadata": {},
   "outputs": [],
   "source": [
    "# Compute 90 percent confidence intervals\n",
    "con_R_u = mte_4_R.iloc[:,0] + norm.ppf(0.95) * se_R\n",
    "con_R_d = mte_4_R.iloc[:,0] - norm.ppf(0.95) * se_R"
   ]
  },
  {
   "cell_type": "markdown",
   "metadata": {},
   "source": [
    "Plot the replicated MTE results vis-à-vis the original ones. The original results were obtained by digitizing Figure 4 from Carneiro et al. (2011) with the software [*Engauge Digitizer*](https://apps.apple.com/us/app/engauge-digitizer/id1107356098?mt=12)."
   ]
  },
  {
   "cell_type": "code",
   "execution_count": 32,
   "metadata": {},
   "outputs": [],
   "source": [
    "# import original results\n",
    "mte_ = pd.read_csv('data/mte_semipar_original.csv')"
   ]
  },
  {
   "cell_type": "code",
   "execution_count": 33,
   "metadata": {},
   "outputs": [
    {
     "data": {
      "image/png": "[encoded data removed]",
      "text/plain": [
       "<Figure size 1260x720 with 1 Axes>"
      ]
     },
     "metadata": {
      "needs_background": "light"
     },
     "output_type": "display_data"
    }
   ],
   "source": [
    "ax = plt.figure(figsize=(17.5, 10)).add_subplot(111)\n",
    "\n",
    "ax.set_ylabel(r\"$MTE$\", fontsize=24)\n",
    "ax.set_xlabel(\"$u_D$\", fontsize=24)\n",
    "ax.tick_params(axis=\"both\", which=\"major\", labelsize=18)\n",
    "\n",
    "# Plot replicated curves\n",
    "ax.plot(quantiles, mte_4, label=\"replicated $MTE$, 1 lowess iteration\", color=\"blue\", linewidth=4)\n",
    "\n",
    "ax.plot(quantiles_10, mte_4_10, label=\"replicated $MTE$, 10 lowess iterations\", color=\"red\", linewidth=4)\n",
    "\n",
    "ax.plot(quantiles_R, mte_4_R, label=\"replicated $MTE$, R loess residuals\", color=\"green\", linewidth=4)\n",
    "ax.plot(u_R_mean, con_R_u, color=\"green\", linestyle=\":\", linewidth=3)\n",
    "ax.plot(u_R_mean, con_R_d, color=\"green\", linestyle=\":\", linewidth=3)\n",
    "\n",
    "\n",
    "# Plot original curve\n",
    "ax.plot(mte_['quantiles'], mte_['mte'], label=\"$original MTE$\", color=\"orange\", linewidth=4)\n",
    "ax.plot(mte_['quantiles'], mte_['con_u'], color=\"orange\", linestyle=\":\", linewidth=3)\n",
    "ax.plot(mte_['quantiles'], mte_['con_d'], color=\"orange\", linestyle=\":\", linewidth=3)\n",
    "\n",
    "ax.set_ylim([-0.51, 0.71])\n",
    "ax.set_xlim([-0.005, 1.005])\n",
    "\n",
    "blue_patch = mpatches.Patch(color=\"blue\", label=\"replicated $MTE$, 1 lowess iteration\")\n",
    "red_patch = mpatches.Patch(color=\"red\", label=\"replicated $MTE$, 10 lowess iterations\")\n",
    "green_patch = mpatches.Patch(color=\"green\", label=\"replicated $MTE$, R loess residuals\")\n",
    "\n",
    "orange_patch = mpatches.Patch(color=\"orange\", label=\"original $MTE$\")\n",
    "plt.legend(handles=[blue_patch, red_patch, green_patch, orange_patch], prop={\"size\": 16})\n",
    "plt.show()"
   ]
  },
  {
   "cell_type": "markdown",
   "metadata": {},
   "source": [
    "As the graph shows, the curves of the replicated *MTEs* definitely go in the direction of the original *MTE* but are flatter on the margins, especially the ones utilizing statsmodels' lowess function. The blue and the green curve look similar in slope with the difference that the red curve (10 lowess iterations) is shifted downwards. The specification using residuals from R's loess - green line - seems to come closest to the original curve. Compared to the original plot, the 90 percent confidence bands are too tight, particularly in the mid section of $u_D$. In the graph above, only the confidence bands for the R specification are shown (green dotted line). Confidence bands centered at the blue curve look similar, but are omitted for sake of clarity (standard errors for 10 lowess iterations could not be computed, as the bootstrap algorithm breaks down)."
   ]
  },
  {
   "cell_type": "markdown",
   "metadata": {},
   "source": [
    "The deviations might be due to the use of a mock data set combined with the utilization of nonparametric techniques which makes the semiparametric replication more sensitive compared to a parametric specification."
   ]
  }
 ],
 "metadata": {
  "kernelspec": {
   "display_name": "Python 3",
   "language": "python",
   "name": "python3"
  },
  "language_info": {
   "codemirror_mode": {
    "name": "ipython",
    "version": 3
   },
   "file_extension": ".py",
   "mimetype": "text/x-python",
   "name": "python",
   "nbconvert_exporter": "python",
   "pygments_lexer": "ipython3",
   "version": "3.7.3"
  }
 },
 "nbformat": 4,
 "nbformat_minor": 2
}
